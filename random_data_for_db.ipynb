{
 "cells": [
  {
   "cell_type": "code",
   "execution_count": 121,
   "id": "046d3178",
   "metadata": {},
   "outputs": [],
   "source": [
    "import string\n",
    "import random\n",
    "import datetime\n",
    "import datetime"
   ]
  },
  {
   "cell_type": "code",
   "execution_count": 122,
   "id": "da78d27e",
   "metadata": {},
   "outputs": [],
   "source": [
    "def name_generator(size=8, chars=string.ascii_uppercase):\n",
    "    return ''.join(random.choice(chars) for _ in range(size))"
   ]
  },
  {
   "cell_type": "code",
   "execution_count": 127,
   "id": "38dea0e4",
   "metadata": {},
   "outputs": [],
   "source": [
    "today = datetime.datetime(2020, 1, 22)\n",
    "date_list = [today + datetime.timedelta(days=random.randint(0, 7)) for _ in range(0, 100)]\n",
    "\n",
    "datetext = [x.strftime('%Y-%m-%d 00:00:00') for x in date_list]\n",
    "dates = [x.strftime('%Y-%m-%d') for x in date_list]"
   ]
  },
  {
   "cell_type": "code",
   "execution_count": 128,
   "id": "1c8e1d88",
   "metadata": {},
   "outputs": [],
   "source": [
    "formats = ['Video', 'Carousel', 'Multi', 'Image']\n",
    "campaigns = []\n",
    "for i in range(100):\n",
    "    row = f\"({random.randint(0, 1)}, '{name_generator()}', '{formats[i % 4]}')\"\n",
    "    campaigns.append(row)"
   ]
  },
  {
   "cell_type": "code",
   "execution_count": 129,
   "id": "33efe24b",
   "metadata": {},
   "outputs": [],
   "source": [
    "events = []\n",
    "devices = ['Mobile', 'Desktop']\n",
    "for i in range(100):\n",
    "    age = random.randint(6, 80)\n",
    "    if i % 5 == 0:\n",
    "        age = 'Null'\n",
    "    row = f\"('{datetext[i]}', '{dates[i]}', {random.randint(1, 2)}, {random.randint(1, 150)}, {age}, '{devices[i % 2]}', {random.randint(6000, 7000)}, {random.randint(1, 100)}, {random.randint(600, 700)}, {random.randint(6000, 6010)})\"\n",
    "    events.append(row)"
   ]
  },
  {
   "cell_type": "code",
   "execution_count": 130,
   "id": "108e6772",
   "metadata": {},
   "outputs": [
    {
     "name": "stdout",
     "output_type": "stream",
     "text": [
      "Соединение с PostgreSQL закрыто\n"
     ]
    }
   ],
   "source": [
    "import psycopg2\n",
    "from psycopg2 import Error\n",
    "from psycopg2.extensions import ISOLATION_LEVEL_AUTOCOMMIT\n",
    "try:\n",
    "    connection = psycopg2.connect(user=\"postgres\",\n",
    "                                  password=\"postgres\",\n",
    "                                  host=\"127.0.0.1\",\n",
    "                                  port=\"5432\")\n",
    "    connection.set_isolation_level(ISOLATION_LEVEL_AUTOCOMMIT)\n",
    "    cursor = connection.cursor()\n",
    "    \n",
    "    insert_query = 'INSERT INTO campaigns (is_active, name, format) VALUES '\n",
    "    for i in campaigns:\n",
    "        cursor.execute(insert_query + i)\n",
    "        connection.commit()\n",
    "        \n",
    "    insert_query = 'INSERT INTO events (timestamp, date, event_type, geo, age, device_type, banner_id, campaign_id, amount, pad_id) VALUES '\n",
    "    for i in events:\n",
    "        cursor.execute(insert_query + i)\n",
    "        connection.commit()\n",
    "    \n",
    "except (Exception, Error) as error:\n",
    "    print(\"Ошибка при работе с PostgreSQL\", error)\n",
    "finally:\n",
    "    if connection:\n",
    "        cursor.close()\n",
    "        connection.close()\n",
    "        print(\"Соединение с PostgreSQL закрыто\")"
   ]
  },
  {
   "cell_type": "code",
   "execution_count": null,
   "id": "ef2797ae",
   "metadata": {},
   "outputs": [],
   "source": []
  }
 ],
 "metadata": {
  "kernelspec": {
   "display_name": "Python 3 (ipykernel)",
   "language": "python",
   "name": "python3"
  },
  "language_info": {
   "codemirror_mode": {
    "name": "ipython",
    "version": 3
   },
   "file_extension": ".py",
   "mimetype": "text/x-python",
   "name": "python",
   "nbconvert_exporter": "python",
   "pygments_lexer": "ipython3",
   "version": "3.7.12"
  }
 },
 "nbformat": 4,
 "nbformat_minor": 5
}
